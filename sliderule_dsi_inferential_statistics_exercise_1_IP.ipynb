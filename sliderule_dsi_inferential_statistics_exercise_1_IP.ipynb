{
 "cells": [
  {
   "cell_type": "markdown",
   "metadata": {},
   "source": [
    "# What is the True Normal Human Body Temperature? \n",
    "\n",
    "#### Background\n",
    "\n",
    "The mean normal body temperature was held to be 37$^{\\circ}$C or 98.6$^{\\circ}$F for more than 120 years since it was first conceptualized and reported by Carl Wunderlich in a famous 1868 book. But, is this value statistically correct?"
   ]
  },
  {
   "cell_type": "markdown",
   "metadata": {},
   "source": [
    "<div class=\"span5 alert alert-info\">\n",
    "<h3>Exercises</h3>\n",
    "\n",
    "<p>In this exercise, you will analyze a dataset of human body temperatures and employ the concepts of hypothesis testing, confidence intervals, and statistical significance.</p>\n",
    "\n",
    "<p>Answer the following questions <b>in this notebook below and submit to your Github account</b>.</p> \n",
    "\n",
    "<ol>\n",
    "<li>  Is the distribution of body temperatures normal? \n",
    "    <ul>\n",
    "    <li> Although this is not a requirement for CLT to hold (read CLT carefully), it gives us some peace of mind that the population may also be normally distributed if we assume that this sample is representative of the population.\n",
    "    </ul>\n",
    "<li>  Is the sample size large? Are the observations independent?\n",
    "    <ul>\n",
    "    <li> Remember that this is a condition for the CLT, and hence the statistical tests we are using, to apply.\n",
    "    </ul>\n",
    "<li>  Is the true population mean really 98.6 degrees F?\n",
    "    <ul>\n",
    "    <li> Would you use a one-sample or two-sample test? Why?\n",
    "    <li> In this situation, is it appropriate to use the $t$ or $z$ statistic? \n",
    "    <li> Now try using the other test. How is the result be different? Why?\n",
    "    </ul>\n",
    "<li>  At what temperature should we consider someone's temperature to be \"abnormal\"?\n",
    "    <ul>\n",
    "    <li> Start by computing the margin of error and confidence interval.\n",
    "    </ul>\n",
    "<li>  Is there a significant difference between males and females in normal temperature?\n",
    "    <ul>\n",
    "    <li> What test did you use and why?\n",
    "    <li> Write a story with your conclusion in the context of the original problem.\n",
    "    </ul>\n",
    "</ol>\n",
    "\n",
    "You can include written notes in notebook cells using Markdown: \n",
    "   - In the control panel at the top, choose Cell > Cell Type > Markdown\n",
    "   - Markdown syntax: http://nestacms.com/docs/creating-content/markdown-cheat-sheet\n",
    "\n",
    "#### Resources\n",
    "\n",
    "+ Information and data sources: http://www.amstat.org/publications/jse/datasets/normtemp.txt, http://www.amstat.org/publications/jse/jse_data_archive.htm\n",
    "+ Markdown syntax: http://nestacms.com/docs/creating-content/markdown-cheat-sheet\n",
    "\n",
    "****"
   ]
  },
  {
   "cell_type": "code",
   "execution_count": 1,
   "metadata": {
    "collapsed": false
   },
   "outputs": [],
   "source": [
    "import pandas as pd\n",
    "%matplotlib inline\n",
    "import matplotlib.pyplot as plt\n",
    "import scipy.stats as stats\n",
    "import numpy as np\n",
    "COLOR1 = '#7fc97f'\n",
    "COLOR2 = '#beaed4'\n",
    "COLOR3 = '#fdc086'\n",
    "COLOR4 = '#ffff99'\n",
    "COLOR5 = '#386cb0'"
   ]
  },
  {
   "cell_type": "code",
   "execution_count": 2,
   "metadata": {
    "collapsed": false
   },
   "outputs": [
    {
     "data": {
      "text/html": [
       "<div>\n",
       "<table border=\"1\" class=\"dataframe\">\n",
       "  <thead>\n",
       "    <tr style=\"text-align: right;\">\n",
       "      <th></th>\n",
       "      <th>temperature</th>\n",
       "      <th>gender</th>\n",
       "      <th>heart_rate</th>\n",
       "    </tr>\n",
       "  </thead>\n",
       "  <tbody>\n",
       "    <tr>\n",
       "      <th>0</th>\n",
       "      <td>99.3</td>\n",
       "      <td>F</td>\n",
       "      <td>68.0</td>\n",
       "    </tr>\n",
       "    <tr>\n",
       "      <th>1</th>\n",
       "      <td>98.4</td>\n",
       "      <td>F</td>\n",
       "      <td>81.0</td>\n",
       "    </tr>\n",
       "    <tr>\n",
       "      <th>2</th>\n",
       "      <td>97.8</td>\n",
       "      <td>M</td>\n",
       "      <td>73.0</td>\n",
       "    </tr>\n",
       "    <tr>\n",
       "      <th>3</th>\n",
       "      <td>99.2</td>\n",
       "      <td>F</td>\n",
       "      <td>66.0</td>\n",
       "    </tr>\n",
       "    <tr>\n",
       "      <th>4</th>\n",
       "      <td>98.0</td>\n",
       "      <td>F</td>\n",
       "      <td>73.0</td>\n",
       "    </tr>\n",
       "  </tbody>\n",
       "</table>\n",
       "</div>"
      ],
      "text/plain": [
       "   temperature gender  heart_rate\n",
       "0         99.3      F        68.0\n",
       "1         98.4      F        81.0\n",
       "2         97.8      M        73.0\n",
       "3         99.2      F        66.0\n",
       "4         98.0      F        73.0"
      ]
     },
     "execution_count": 2,
     "metadata": {},
     "output_type": "execute_result"
    }
   ],
   "source": [
    "df = pd.read_csv('data/human_body_temperature.csv')\n",
    "df.head()"
   ]
  },
  {
   "cell_type": "markdown",
   "metadata": {},
   "source": [
    "## 1) Is the distribution of body temperatures normal? 2) Is the sample large?"
   ]
  },
  {
   "cell_type": "code",
   "execution_count": 3,
   "metadata": {
    "collapsed": false
   },
   "outputs": [
    {
     "name": "stdout",
     "output_type": "stream",
     "text": [
      "n:  130\n",
      "Mean:  98.24923076923078\n",
      "SD:  0.7331831580389454\n",
      "SE:  0.0643044168379\n",
      "Skewness:  -0.004419131169\n"
     ]
    }
   ],
   "source": [
    "# Desriptive statistics (sample size, sample mean, sample standard deviation, standard error, skewness)\n",
    "n = len(df)\n",
    "mean = df.temperature.mean()\n",
    "std = df.temperature.std()\n",
    "sem = df.temperature.sem()\n",
    "skewness = df.temperature.skew()\n",
    "print('n: ', n)\n",
    "print('Mean: ', mean)\n",
    "print('SD: ', std)\n",
    "print('SE: ', sem)\n",
    "print('Skewness: ', skewness)"
   ]
  },
  {
   "cell_type": "code",
   "execution_count": 4,
   "metadata": {
    "collapsed": false
   },
   "outputs": [
    {
     "data": {
      "text/plain": [
       "45"
      ]
     },
     "execution_count": 4,
     "metadata": {},
     "output_type": "execute_result"
    }
   ],
   "source": [
    "# number of point with 0.1 F interval\n",
    "num = int((df.temperature.max()-df.temperature.min())*10)\n",
    "num"
   ]
  },
  {
   "cell_type": "code",
   "execution_count": 5,
   "metadata": {
    "collapsed": false
   },
   "outputs": [
    {
     "data": {
      "text/plain": [
       "34"
      ]
     },
     "execution_count": 5,
     "metadata": {},
     "output_type": "execute_result"
    }
   ],
   "source": [
    "# number of distinct temperature point\n",
    "len(df.groupby('temperature').size())"
   ]
  },
  {
   "cell_type": "code",
   "execution_count": 6,
   "metadata": {
    "collapsed": false
   },
   "outputs": [],
   "source": [
    "# creating a list\n",
    "T = sorted(df.temperature)"
   ]
  },
  {
   "cell_type": "code",
   "execution_count": 7,
   "metadata": {
    "collapsed": false
   },
   "outputs": [
    {
     "data": {
      "image/png": "[encoded data removed]",
      "text/plain": [
       "<matplotlib.figure.Figure at 0x2039428d518>"
      ]
     },
     "metadata": {},
     "output_type": "display_data"
    }
   ],
   "source": [
    "# plotting the sample distribution as a histogram\n",
    "# fitting the distribution with a probaility density function (PDF)\n",
    "pdf = stats.norm.pdf(T, mean, std)\n",
    "plt_fit = plt.plot(T, pdf, linewidth=3, color=COLOR1)\n",
    "plt_hist = plt.hist(T, num, normed=True, color=COLOR3)\n",
    "plt_label = plt.xlabel('Temperature (F)')"
   ]
  },
  {
   "cell_type": "markdown",
   "metadata": {},
   "source": [
    "## Answers:\n",
    "Sample statistic shows that the sample size is high, and based on skewness, which is close to zero, we can conclude that the sample distribution is normal and very close to population distribution.\n",
    "\n",
    "It seems that the observation is independent (random type indicated in the data description), though possibility of a bias cannot be excluded completely.\n",
    "\n",
    "Visualization of the sample distribution by plotting it as a normalized histogram and fitting it with a probability density function supports the above conclusions."
   ]
  },
  {
   "cell_type": "markdown",
   "metadata": {},
   "source": [
    "## 3) Is the true population mean really 98.6 degrees F?\n",
    "The sample mean is 98.25 degrees F, which is different from the population mean. So, the null hypothesis proposes that the true population mean is 98.6 and the sample distribution is not true representation of the population distribution.\n",
    "\n",
    "One-sample test will be used in this case, since we need to determine whether the sample mean differs from a specified value, and the standard deviation of the population is not known.\n",
    "\n",
    "It is appropriate to use z statistic in this case, since the sample size (130) is relatively high (samples of size 30 or higher are considered to be large samples). "
   ]
  },
  {
   "cell_type": "code",
   "execution_count": 8,
   "metadata": {
    "collapsed": false
   },
   "outputs": [
    {
     "name": "stdout",
     "output_type": "stream",
     "text": [
      "z-score:  -5.45482329236\n",
      "p-value:  2.41063204156e-07\n"
     ]
    }
   ],
   "source": [
    "# Null Hypothesis Test - Z-test\n",
    "# Calculating z-score and p-value\n",
    "z, p = stats.ttest_1samp(T, 98.6)\n",
    "print('z-score: ', z)\n",
    "print('p-value: ', p)"
   ]
  },
  {
   "cell_type": "code",
   "execution_count": 9,
   "metadata": {
    "collapsed": false
   },
   "outputs": [
    {
     "name": "stdout",
     "output_type": "stream",
     "text": [
      "p-value:  4.90215701411e-08\n"
     ]
    }
   ],
   "source": [
    "# Null Hypothesis Test - t-test\n",
    "# Calculating p-value\n",
    "z = (mean - 98.6)/sem\n",
    "p = 2*stats.norm.cdf(-np.abs(z))\n",
    "print('p-value: ', p)"
   ]
  },
  {
   "cell_type": "markdown",
   "metadata": {},
   "source": [
    "The Z-test p-value differs (5 times higher) from the t-test p-value. If the sample size were higher, the two approaches would give closer values. However, the both values are smaller than the 0.05 value corresponding to the significance level of 5%. Therefore, the null hypothesis is rejected, which means that true population mean is not 98.6."
   ]
  },
  {
   "cell_type": "markdown",
   "metadata": {},
   "source": [
    "## 4) At what temperature should we consider someone's temperature to be \"abnormal\"? "
   ]
  },
  {
   "cell_type": "code",
   "execution_count": 10,
   "metadata": {
    "collapsed": false
   },
   "outputs": [
    {
     "data": {
      "text/plain": [
       "(98.123196428181657, 98.375265110279898)"
      ]
     },
     "execution_count": 10,
     "metadata": {},
     "output_type": "execute_result"
    }
   ],
   "source": [
    "# Calculing confidence intervals with a confidence level of 95%\n",
    "low, high = stats.norm.interval(0.95, loc=mean, scale=sem)\n",
    "low, high"
   ]
  },
  {
   "cell_type": "code",
   "execution_count": 11,
   "metadata": {
    "collapsed": false
   },
   "outputs": [
    {
     "data": {
      "text/plain": [
       "0.12603434104912026"
      ]
     },
     "execution_count": 11,
     "metadata": {},
     "output_type": "execute_result"
    }
   ],
   "source": [
    "# Margin of error\n",
    "high - mean"
   ]
  },
  {
   "cell_type": "markdown",
   "metadata": {},
   "source": [
    "Based on the above calculated confidence intervals with a confidence level of 95%, we can propose that \"abnormal\" temperature is lower than 98.12 and higher than 98.38 degrees F."
   ]
  },
  {
   "cell_type": "markdown",
   "metadata": {},
   "source": [
    "## 5) Is there a significant difference between males and females in normal temperature?"
   ]
  },
  {
   "cell_type": "code",
   "execution_count": 12,
   "metadata": {
    "collapsed": false
   },
   "outputs": [
    {
     "name": "stdout",
     "output_type": "stream",
     "text": [
      "Male group\n",
      "n:  65\n",
      "Mean:  98.1046153846154\n",
      "SD:  0.6987557623265908\n",
      "SE:  0.0866699855229\n",
      "Skewness:  -0.213373135445\n",
      "--------------------------\n",
      "Female group\n",
      "n:  65\n",
      "Mean:  98.39384615384613\n",
      "SD:  0.7434877527313665\n",
      "SE:  0.0922183060804\n",
      "Skewness:  0.0981875292979\n"
     ]
    }
   ],
   "source": [
    "# Desriptive statistic for male and female groups\n",
    "male = df[df.gender == 'M']\n",
    "female = df[df.gender == 'F']\n",
    "\n",
    "n_m = len(male)\n",
    "mean_m = male.temperature.mean()\n",
    "std_m = male.temperature.std()\n",
    "sem_m = male.temperature.sem()\n",
    "skewness_m = male.temperature.skew()\n",
    "print('Male group')\n",
    "print('n: ', n_m)\n",
    "print('Mean: ', mean_m)\n",
    "print('SD: ', std_m)\n",
    "print('SE: ', sem_m)\n",
    "print('Skewness: ', skewness_m)\n",
    "print('--------------------------')\n",
    "\n",
    "n_f = len(female)\n",
    "mean_f = female.temperature.mean()\n",
    "std_f = female.temperature.std()\n",
    "sem_f = female.temperature.sem()\n",
    "skewness_f = female.temperature.skew()\n",
    "print('Female group')\n",
    "print('n: ', n_f)\n",
    "print('Mean: ', mean_f)\n",
    "print('SD: ', std_f)\n",
    "print('SE: ', sem_f)\n",
    "print('Skewness: ', skewness_f)"
   ]
  },
  {
   "cell_type": "code",
   "execution_count": 13,
   "metadata": {
    "collapsed": false
   },
   "outputs": [
    {
     "data": {
      "text/plain": [
       "(32, 43)"
      ]
     },
     "execution_count": 13,
     "metadata": {},
     "output_type": "execute_result"
    }
   ],
   "source": [
    "# number of points with 0.1 F interval for male and female groups\n",
    "num_m = int((male.temperature.max() - male.temperature.min())*10)\n",
    "num_f = int((female.temperature.max() - female.temperature.min())*10)\n",
    "num_m, num_f"
   ]
  },
  {
   "cell_type": "code",
   "execution_count": 14,
   "metadata": {
    "collapsed": true
   },
   "outputs": [],
   "source": [
    "# creating lists\n",
    "T_m = sorted(male.temperature)\n",
    "T_f = sorted(female.temperature)"
   ]
  },
  {
   "cell_type": "code",
   "execution_count": 15,
   "metadata": {
    "collapsed": false
   },
   "outputs": [
    {
     "data": {
      "image/png": "[encoded data removed]",
      "text/plain": [
       "<matplotlib.figure.Figure at 0x20398af1320>"
      ]
     },
     "metadata": {},
     "output_type": "display_data"
    }
   ],
   "source": [
    "# plotting T distribution for the male group as a histogram\n",
    "# fitting the distribution with a probaility density function (PDF)\n",
    "pdf_m = stats.norm.pdf(T_m, mean_m, std_m)\n",
    "plt_fit_m = plt.plot(T_m, pdf_m, linewidth=3, color=COLOR1)\n",
    "plt_hist_m = plt.hist(T_m, num_m, normed=True, color=COLOR3)\n",
    "plt_label_m = plt.xlabel('Temperature (F)')"
   ]
  },
  {
   "cell_type": "code",
   "execution_count": 16,
   "metadata": {
    "collapsed": false
   },
   "outputs": [
    {
     "data": {
      "image/png": "[encoded data removed]",
      "text/plain": [
       "<matplotlib.figure.Figure at 0x203990134e0>"
      ]
     },
     "metadata": {},
     "output_type": "display_data"
    }
   ],
   "source": [
    "# plotting T distribution for the female group as a histogram\n",
    "# fitting the distribution with a probaility density function (PDF)\n",
    "pdf_f = stats.norm.pdf(T_f, mean_f, std_f)\n",
    "plt_fit_f = plt.plot(T_f, pdf_f, linewidth=3, color=COLOR1)\n",
    "plt_hist_f = plt.hist(T_f, num_f, normed=True, color=COLOR3)\n",
    "plt_label_f = plt.xlabel('Temperature (F)')"
   ]
  },
  {
   "cell_type": "code",
   "execution_count": 17,
   "metadata": {
    "collapsed": false
   },
   "outputs": [
    {
     "data": {
      "text/plain": [
       "(97.934745334449985, 98.274485434780814)"
      ]
     },
     "execution_count": 17,
     "metadata": {},
     "output_type": "execute_result"
    }
   ],
   "source": [
    "# Calculing confidence intervals with a confidence level of 95% for the male group\n",
    "stats.norm.interval(0.95, loc=mean_m, scale=sem_m)"
   ]
  },
  {
   "cell_type": "code",
   "execution_count": 18,
   "metadata": {
    "collapsed": false
   },
   "outputs": [
    {
     "data": {
      "text/plain": [
       "(98.213101595213331, 98.574590712478923)"
      ]
     },
     "execution_count": 18,
     "metadata": {},
     "output_type": "execute_result"
    }
   ],
   "source": [
    "# Calculing confidence intervals with a confidence level of 95% for the female group\n",
    "stats.norm.interval(0.95, loc=mean_f, scale=sem_f)"
   ]
  },
  {
   "cell_type": "code",
   "execution_count": 19,
   "metadata": {
    "collapsed": false
   },
   "outputs": [
    {
     "data": {
      "image/png": "[encoded data removed]",
      "text/plain": [
       "<matplotlib.figure.Figure at 0x2039916c240>"
      ]
     },
     "metadata": {},
     "output_type": "display_data"
    }
   ],
   "source": [
    "# Visualizing the overlap between the two distributions\n",
    "plt_fit_m = plt.plot(T_m, pdf_m, linewidth=3, label='Male', color=COLOR1)\n",
    "plt_fit_f = plt.plot(T_f, pdf_f, linewidth=3, label = 'Female', color=COLOR3)\n",
    "plt_label_mf = plt.xlabel('Temperature (F)')\n",
    "plt_legend = plt.legend(loc=2)"
   ]
  },
  {
   "cell_type": "markdown",
   "metadata": {},
   "source": [
    "The null hypothesis proposes that there is no difference between the two group sample means. The alternative hypothesis proposes that there is a difference.\n",
    "\n",
    "Two-sample t-test is used due to following considerations:\n",
    "- the two group sample distributions are only slightly skewed and are normal\n",
    "- the two groups are independent\n",
    "- the sample groups represent the same population  "
   ]
  },
  {
   "cell_type": "code",
   "execution_count": 20,
   "metadata": {
    "collapsed": false
   },
   "outputs": [
    {
     "name": "stdout",
     "output_type": "stream",
     "text": [
      "z-score:  -2.28543453817\n",
      "p-value:  0.0239382641829\n"
     ]
    }
   ],
   "source": [
    "# Null Hypothesis t-test \n",
    "# Calculating z-score and p-value \n",
    "z, p = stats.ttest_ind(T_m, T_f, equal_var=False)\n",
    "print('z-score: ', z)\n",
    "print('p-value: ', p)"
   ]
  },
  {
   "cell_type": "markdown",
   "metadata": {},
   "source": [
    "## Conclusion:\n",
    "\n",
    "The null hypothesis is rejected, since p-value is less 0.05. This means that based on the two group samples we can conclude that there is a difference between male and female body temeperatures in a specific population. However, according to modern trends in statistics (Prof. Downey's talk at PyCon 2015), it is believed that p-value should be < 0.01 to reject the null hypothesis. Therefore, a study using higher sample size is proposed."
   ]
  },
  {
   "cell_type": "code",
   "execution_count": null,
   "metadata": {
    "collapsed": true
   },
   "outputs": [],
   "source": []
  }
 ],
 "metadata": {
  "kernelspec": {
   "display_name": "Python [conda root]",
   "language": "python",
   "name": "conda-root-py"
  },
  "language_info": {
   "codemirror_mode": {
    "name": "ipython",
    "version": 3
   },
   "file_extension": ".py",
   "mimetype": "text/x-python",
   "name": "python",
   "nbconvert_exporter": "python",
   "pygments_lexer": "ipython3",
   "version": "3.5.2"
  }
 },
 "nbformat": 4,
 "nbformat_minor": 0
}
