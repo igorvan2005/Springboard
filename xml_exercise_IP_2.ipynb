{
 "cells": [
  {
   "cell_type": "markdown",
   "metadata": {},
   "source": [
    "****\n",
    "## XML exercise\n",
    "\n",
    "Using data in 'data/mondial_database.xml', the examples above, and refering to https://docs.python.org/2.7/library/xml.etree.elementtree.html, find\n",
    "\n",
    "1. 10 countries with the lowest infant mortality rates\n",
    "2. 10 cities with the largest population\n",
    "3. 10 ethnic groups with the largest overall populations (sum of best/latest estimates over all countries)\n",
    "4. name and country of a) longest river, b) largest lake and c) airport at highest elevation"
   ]
  },
  {
   "cell_type": "code",
   "execution_count": 2,
   "metadata": {
    "collapsed": true
   },
   "outputs": [],
   "source": [
    "from xml.etree import ElementTree as ET\n",
    "import pandas as pd"
   ]
  },
  {
   "cell_type": "code",
   "execution_count": 3,
   "metadata": {
    "collapsed": true
   },
   "outputs": [],
   "source": [
    "doc = ET.parse( './data/mondial_database.xml' )\n",
    "root = doc.getroot()"
   ]
  },
  {
   "cell_type": "code",
   "execution_count": 4,
   "metadata": {
    "collapsed": false
   },
   "outputs": [
    {
     "data": {
      "text/plain": [
       "<Element 'mondial' at 0x000001D62A682548>"
      ]
     },
     "execution_count": 4,
     "metadata": {},
     "output_type": "execute_result"
    }
   ],
   "source": [
    "root"
   ]
  },
  {
   "cell_type": "markdown",
   "metadata": {},
   "source": [
    "# 1) Find 10 countries with the lowest infant mortality rates"
   ]
  },
  {
   "cell_type": "code",
   "execution_count": 5,
   "metadata": {
    "collapsed": false
   },
   "outputs": [
    {
     "data": {
      "text/plain": [
       "<Element 'country' at 0x000001D62A682598>"
      ]
     },
     "execution_count": 5,
     "metadata": {},
     "output_type": "execute_result"
    }
   ],
   "source": [
    "root.find('country')"
   ]
  },
  {
   "cell_type": "code",
   "execution_count": 6,
   "metadata": {
    "collapsed": false
   },
   "outputs": [
    {
     "data": {
      "text/plain": [
       "<Element 'infant_mortality' at 0x000001D62A682958>"
      ]
     },
     "execution_count": 6,
     "metadata": {},
     "output_type": "execute_result"
    }
   ],
   "source": [
    "root.find('country//infant_mortality')"
   ]
  },
  {
   "cell_type": "code",
   "execution_count": 7,
   "metadata": {
    "collapsed": false
   },
   "outputs": [],
   "source": [
    "# create empty list\n",
    "infant_mortality_rate = []\n",
    "# get infant mortality rate for each country: root element - mondial, element - country, subelement - infant mortality,\n",
    "# and add it to the list\n",
    "for country in root.iterfind('country[infant_mortality]'):\n",
    "    name = country.find('name').text\n",
    "    rate = country.find('infant_mortality')   \n",
    "    infant_mortality_rate.append([name, float(rate.text)]) "
   ]
  },
  {
   "cell_type": "code",
   "execution_count": 8,
   "metadata": {
    "collapsed": false
   },
   "outputs": [
    {
     "data": {
      "text/html": [
       "<div>\n",
       "<table border=\"1\" class=\"dataframe\">\n",
       "  <thead>\n",
       "    <tr style=\"text-align: right;\">\n",
       "      <th></th>\n",
       "      <th>country</th>\n",
       "      <th>rate</th>\n",
       "    </tr>\n",
       "  </thead>\n",
       "  <tbody>\n",
       "    <tr>\n",
       "      <th>36</th>\n",
       "      <td>Monaco</td>\n",
       "      <td>1.81</td>\n",
       "    </tr>\n",
       "    <tr>\n",
       "      <th>90</th>\n",
       "      <td>Japan</td>\n",
       "      <td>2.13</td>\n",
       "    </tr>\n",
       "    <tr>\n",
       "      <th>109</th>\n",
       "      <td>Bermuda</td>\n",
       "      <td>2.48</td>\n",
       "    </tr>\n",
       "    <tr>\n",
       "      <th>34</th>\n",
       "      <td>Norway</td>\n",
       "      <td>2.48</td>\n",
       "    </tr>\n",
       "    <tr>\n",
       "      <th>98</th>\n",
       "      <td>Singapore</td>\n",
       "      <td>2.53</td>\n",
       "    </tr>\n",
       "    <tr>\n",
       "      <th>35</th>\n",
       "      <td>Sweden</td>\n",
       "      <td>2.60</td>\n",
       "    </tr>\n",
       "    <tr>\n",
       "      <th>8</th>\n",
       "      <td>Czech Republic</td>\n",
       "      <td>2.63</td>\n",
       "    </tr>\n",
       "    <tr>\n",
       "      <th>72</th>\n",
       "      <td>Hong Kong</td>\n",
       "      <td>2.73</td>\n",
       "    </tr>\n",
       "    <tr>\n",
       "      <th>73</th>\n",
       "      <td>Macao</td>\n",
       "      <td>3.13</td>\n",
       "    </tr>\n",
       "    <tr>\n",
       "      <th>39</th>\n",
       "      <td>Iceland</td>\n",
       "      <td>3.15</td>\n",
       "    </tr>\n",
       "  </tbody>\n",
       "</table>\n",
       "</div>"
      ],
      "text/plain": [
       "            country  rate\n",
       "36           Monaco  1.81\n",
       "90            Japan  2.13\n",
       "109         Bermuda  2.48\n",
       "34           Norway  2.48\n",
       "98        Singapore  2.53\n",
       "35           Sweden  2.60\n",
       "8    Czech Republic  2.63\n",
       "72        Hong Kong  2.73\n",
       "73            Macao  3.13\n",
       "39          Iceland  3.15"
      ]
     },
     "execution_count": 8,
     "metadata": {},
     "output_type": "execute_result"
    }
   ],
   "source": [
    "# convert the list to data frame and assign column names\n",
    "df = pd.DataFrame(infant_mortality_rate, columns=['country', 'rate'])\n",
    "df.sort_values(by='rate').head(10)"
   ]
  },
  {
   "cell_type": "markdown",
   "metadata": {},
   "source": [
    "# 2) Find 10 cities with the largest population"
   ]
  },
  {
   "cell_type": "code",
   "execution_count": 9,
   "metadata": {
    "collapsed": false
   },
   "outputs": [
    {
     "data": {
      "text/plain": [
       "<Element 'city' at 0x000001D62A693048>"
      ]
     },
     "execution_count": 9,
     "metadata": {},
     "output_type": "execute_result"
    }
   ],
   "source": [
    "root.find('country//city')"
   ]
  },
  {
   "cell_type": "code",
   "execution_count": 10,
   "metadata": {
    "collapsed": false
   },
   "outputs": [
    {
     "data": {
      "text/plain": [
       "<Element 'population' at 0x000001D62A6931D8>"
      ]
     },
     "execution_count": 10,
     "metadata": {},
     "output_type": "execute_result"
    }
   ],
   "source": [
    "root.find('country//city//population')"
   ]
  },
  {
   "cell_type": "code",
   "execution_count": 11,
   "metadata": {
    "collapsed": false
   },
   "outputs": [
    {
     "data": {
      "text/plain": [
       "<Element 'population' at 0x000001D62A693278>"
      ]
     },
     "execution_count": 11,
     "metadata": {},
     "output_type": "execute_result"
    }
   ],
   "source": [
    "root.find('country//city//population[@year=\"2011\"]')"
   ]
  },
  {
   "cell_type": "code",
   "execution_count": 12,
   "metadata": {
    "collapsed": false
   },
   "outputs": [],
   "source": [
    "# create empty dictionary\n",
    "dict_cities = {}\n",
    "# get country and population in 2011 for each city: element - country, subelement - city, subelement(city) - population,\n",
    "for cities in doc.findall('country/province/city'):\n",
    "    max_year = 0\n",
    "    city_population = 0\n",
    "    for city in cities:\n",
    "        if city.tag == 'name':\n",
    "            value = city.text\n",
    "        elif city.tag == 'population':\n",
    "            # find city element with attribute year and choose latest year \n",
    "            if int(city.attrib['year']) > max_year:\n",
    "                max_year = int(city.attrib['year'])\n",
    "                city_population = int(city.text)\n",
    "    dict_cities[city_population] = value"
   ]
  },
  {
   "cell_type": "code",
   "execution_count": 13,
   "metadata": {
    "collapsed": false
   },
   "outputs": [
    {
     "data": {
      "text/html": [
       "<div>\n",
       "<table border=\"1\" class=\"dataframe\">\n",
       "  <thead>\n",
       "    <tr style=\"text-align: right;\">\n",
       "      <th></th>\n",
       "      <th>city</th>\n",
       "      <th>population</th>\n",
       "    </tr>\n",
       "  </thead>\n",
       "  <tbody>\n",
       "    <tr>\n",
       "      <th>298</th>\n",
       "      <td>Shanghai</td>\n",
       "      <td>22315474</td>\n",
       "    </tr>\n",
       "    <tr>\n",
       "      <th>2012</th>\n",
       "      <td>Istanbul</td>\n",
       "      <td>13710512</td>\n",
       "    </tr>\n",
       "    <tr>\n",
       "      <th>1831</th>\n",
       "      <td>Mumbai</td>\n",
       "      <td>12442373</td>\n",
       "    </tr>\n",
       "    <tr>\n",
       "      <th>366</th>\n",
       "      <td>Moscow</td>\n",
       "      <td>11979529</td>\n",
       "    </tr>\n",
       "    <tr>\n",
       "      <th>52</th>\n",
       "      <td>Beijing</td>\n",
       "      <td>11716620</td>\n",
       "    </tr>\n",
       "    <tr>\n",
       "      <th>1184</th>\n",
       "      <td>São Paulo</td>\n",
       "      <td>11152344</td>\n",
       "    </tr>\n",
       "    <tr>\n",
       "      <th>1592</th>\n",
       "      <td>Tianjin</td>\n",
       "      <td>11090314</td>\n",
       "    </tr>\n",
       "    <tr>\n",
       "      <th>3</th>\n",
       "      <td>Guangzhou</td>\n",
       "      <td>11071424</td>\n",
       "    </tr>\n",
       "    <tr>\n",
       "      <th>2604</th>\n",
       "      <td>Delhi</td>\n",
       "      <td>11034555</td>\n",
       "    </tr>\n",
       "    <tr>\n",
       "      <th>2377</th>\n",
       "      <td>Shenzhen</td>\n",
       "      <td>10358381</td>\n",
       "    </tr>\n",
       "  </tbody>\n",
       "</table>\n",
       "</div>"
      ],
      "text/plain": [
       "           city  population\n",
       "298    Shanghai    22315474\n",
       "2012   Istanbul    13710512\n",
       "1831     Mumbai    12442373\n",
       "366      Moscow    11979529\n",
       "52      Beijing    11716620\n",
       "1184  São Paulo    11152344\n",
       "1592    Tianjin    11090314\n",
       "3     Guangzhou    11071424\n",
       "2604      Delhi    11034555\n",
       "2377   Shenzhen    10358381"
      ]
     },
     "execution_count": 13,
     "metadata": {},
     "output_type": "execute_result"
    }
   ],
   "source": [
    "# convert the dictionary to data frame and assign column names\n",
    "df = pd.DataFrame.from_dict(dict_cities, orient='index').reset_index()\n",
    "df.rename(columns={'index': 'population', 0: 'city'}, inplace=True)\n",
    "df_columns = df.sort_values(by='population', ascending=False).head(10)\n",
    "df_columns[['city', 'population']]"
   ]
  },
  {
   "cell_type": "code",
   "execution_count": null,
   "metadata": {
    "collapsed": false
   },
   "outputs": [],
   "source": []
  },
  {
   "cell_type": "markdown",
   "metadata": {},
   "source": [
    "# 3) Find 10 ethnic groups with the largest overall populations (sum of best/latest estimates over all countries)"
   ]
  },
  {
   "cell_type": "code",
   "execution_count": 14,
   "metadata": {
    "collapsed": false
   },
   "outputs": [],
   "source": [
    "# ethnic groups with the largest population\n",
    "dict_ethnic_group = {}\n",
    "for countries in doc.findall('country'):\n",
    "    max_year = 0\n",
    "    population = 0\n",
    "    for country_item in countries:\n",
    "        if country_item.tag == 'population':\n",
    "            if int(country_item.attrib['year']) > max_year:\n",
    "                max_year = int(country_item.attrib['year'])\n",
    "                population = int(country_item.text)\n",
    "        if country_item.tag == 'ethnicgroup':\n",
    "            name = country_item.text\n",
    "            percent = float(country_item.attrib['percentage']) / 100\n",
    "            try:\n",
    "                dict_ethnic_group[name] += int(population * percent)\n",
    "            except(KeyError):\n",
    "                dict_ethnic_group[name] = int(population * percent)\n"
   ]
  },
  {
   "cell_type": "code",
   "execution_count": 15,
   "metadata": {
    "collapsed": false
   },
   "outputs": [
    {
     "data": {
      "text/html": [
       "<div>\n",
       "<table border=\"1\" class=\"dataframe\">\n",
       "  <thead>\n",
       "    <tr style=\"text-align: right;\">\n",
       "      <th></th>\n",
       "      <th>ethnic group</th>\n",
       "      <th>population</th>\n",
       "    </tr>\n",
       "  </thead>\n",
       "  <tbody>\n",
       "    <tr>\n",
       "      <th>42</th>\n",
       "      <td>Han Chinese</td>\n",
       "      <td>1245058800</td>\n",
       "    </tr>\n",
       "    <tr>\n",
       "      <th>266</th>\n",
       "      <td>Indo-Aryan</td>\n",
       "      <td>871815583</td>\n",
       "    </tr>\n",
       "    <tr>\n",
       "      <th>110</th>\n",
       "      <td>European</td>\n",
       "      <td>494872201</td>\n",
       "    </tr>\n",
       "    <tr>\n",
       "      <th>86</th>\n",
       "      <td>African</td>\n",
       "      <td>318325104</td>\n",
       "    </tr>\n",
       "    <tr>\n",
       "      <th>265</th>\n",
       "      <td>Dravidian</td>\n",
       "      <td>302713744</td>\n",
       "    </tr>\n",
       "    <tr>\n",
       "      <th>106</th>\n",
       "      <td>Mestizo</td>\n",
       "      <td>157734349</td>\n",
       "    </tr>\n",
       "    <tr>\n",
       "      <th>270</th>\n",
       "      <td>Bengali</td>\n",
       "      <td>146776916</td>\n",
       "    </tr>\n",
       "    <tr>\n",
       "      <th>18</th>\n",
       "      <td>Russian</td>\n",
       "      <td>131856989</td>\n",
       "    </tr>\n",
       "    <tr>\n",
       "      <th>238</th>\n",
       "      <td>Japanese</td>\n",
       "      <td>126534212</td>\n",
       "    </tr>\n",
       "    <tr>\n",
       "      <th>219</th>\n",
       "      <td>Malay</td>\n",
       "      <td>121993548</td>\n",
       "    </tr>\n",
       "  </tbody>\n",
       "</table>\n",
       "</div>"
      ],
      "text/plain": [
       "    ethnic group  population\n",
       "42   Han Chinese  1245058800\n",
       "266   Indo-Aryan   871815583\n",
       "110     European   494872201\n",
       "86       African   318325104\n",
       "265    Dravidian   302713744\n",
       "106      Mestizo   157734349\n",
       "270      Bengali   146776916\n",
       "18       Russian   131856989\n",
       "238     Japanese   126534212\n",
       "219        Malay   121993548"
      ]
     },
     "execution_count": 15,
     "metadata": {},
     "output_type": "execute_result"
    }
   ],
   "source": [
    "df = pd.DataFrame.from_dict(dict_ethnic_group, orient='index').reset_index()\n",
    "df.rename(columns={'index': 'ethnic group', 0: 'population'}, inplace=True)\n",
    "df_columns = df.sort_values(by='population', ascending=False).head(10)\n",
    "df_columns"
   ]
  },
  {
   "cell_type": "markdown",
   "metadata": {},
   "source": [
    "# 4) Find name and country of a) longest river, b) largest lake and c) airport at highest elevation"
   ]
  },
  {
   "cell_type": "code",
   "execution_count": 16,
   "metadata": {
    "collapsed": false
   },
   "outputs": [
    {
     "name": "stdout",
     "output_type": "stream",
     "text": [
      "The longest river is Amazonas, which is 6448km long.\n",
      "It runs through: \n",
      "Colombia\n",
      "Brazil\n",
      "Peru\n",
      "\n",
      "The largest lake is Caspian Sea, with an area of 386400km^2.\n",
      "It borders: \n",
      "Russia\n",
      "Azerbaijan\n",
      "Kazakhstan\n",
      "Iran\n",
      "Turkmenistan\n",
      "\n",
      "El Alto Intl in Bolivia is the highest airport, at an elevation of 4063.0 meters.\n"
     ]
    }
   ],
   "source": [
    "# river, lake, airport\n",
    "def country_decode(codes):\n",
    "    # Takes a string of country codes as an argument and returns a list of long-form country names.\n",
    "    countries = []\n",
    "    codes = codes.split()\n",
    "    for code in codes:\n",
    "        countries.append(concodes[code])\n",
    "    return countries\n",
    "\n",
    "def find_max(feature, metric):\n",
    "    # Takes two strings as arguments, returns a tuple of the name of the feature, the max of the metric, and the \n",
    "    # countries associated with it.\n",
    "    max_m = 0\n",
    "    codes = ''\n",
    "    max_name = ''\n",
    "    for f in doc.findall(feature):\n",
    "        for node in list(f):\n",
    "            if node.tag == 'name':\n",
    "                name = node.text\n",
    "            if node.tag == metric:\n",
    "                try:\n",
    "                    met = float(node.text)\n",
    "                except TypeError:\n",
    "                    met = 0\n",
    "                if met > max_m:\n",
    "                    max_m = met\n",
    "                    codes = f.attrib['country']\n",
    "                    max_name = name\n",
    "        countries = country_decode(codes)\n",
    "    return max_name, max_m, countries\n",
    "        \n",
    "concodes = {}\n",
    "for c in doc.findall('country'):\n",
    "    code = c.attrib['car_code']\n",
    "    for node in list(c):\n",
    "        if node.tag == 'name':\n",
    "            name = node.text\n",
    "        concodes[code] = name\n",
    "        \n",
    "riv = find_max('river', 'length')\n",
    "print('The longest river is ' + riv[0] + ', which is ' + str(int(riv[1])) + 'km long.')\n",
    "print('It runs through: ')\n",
    "for e in riv[2]:\n",
    "    print(e)\n",
    "\n",
    "lake = find_max('lake', 'area')\n",
    "print('\\nThe largest lake is ' + lake[0] + ', with an area of ' + str(int(lake[1])) + 'km^2.')\n",
    "print('It borders: ')\n",
    "for e in lake[2]:\n",
    "    print (e)\n",
    "\n",
    "air = find_max('airport', 'elevation')\n",
    "print('\\n' + air[0] + ' in ' + str(air[2][0]) + ' is the highest airport, at an elevation of ' + str(air[1]) + ' meters.')"
   ]
  },
  {
   "cell_type": "code",
   "execution_count": null,
   "metadata": {
    "collapsed": true
   },
   "outputs": [],
   "source": []
  }
 ],
 "metadata": {
  "anaconda-cloud": {},
  "celltoolbar": "Raw Cell Format",
  "kernelspec": {
   "display_name": "Python [default]",
   "language": "python",
   "name": "python3"
  },
  "language_info": {
   "codemirror_mode": {
    "name": "ipython",
    "version": 3
   },
   "file_extension": ".py",
   "mimetype": "text/x-python",
   "name": "python",
   "nbconvert_exporter": "python",
   "pygments_lexer": "ipython3",
   "version": "3.5.2"
  }
 },
 "nbformat": 4,
 "nbformat_minor": 0
}
